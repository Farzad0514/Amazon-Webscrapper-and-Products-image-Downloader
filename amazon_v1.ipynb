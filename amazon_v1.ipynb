{
 "cells": [
  {
   "cell_type": "code",
   "execution_count": 134,
   "metadata": {},
   "outputs": [
    {
     "name": "stdout",
     "output_type": "stream",
     "text": [
      "Scraped Page No. 1\n",
      "Scraped Page No. 2\n",
      "Scraped Page No. 3\n",
      "Scraped Page No. 4\n",
      "Scraped Page No. 5\n",
      "Scraped Page No. 6\n",
      "Scraped Page No. 7\n",
      "Scraped Page No. 8\n",
      "Scraped Page No. 9\n",
      "Scraped Page No. 10\n",
      "Scraped Page No. 11\n",
      "Scraped Page No. 12\n",
      "Scraped Page No. 13\n",
      "Scraped Page No. 14\n",
      "Scraped Page No. 15\n",
      "Scraped Page No. 16\n",
      "Scraped Page No. 17\n",
      "Scraped Page No. 18\n",
      "Scraped Page No. 19\n",
      "Scraped Page No. 20\n",
      "Scraped Page No. 21\n",
      "Scraped Page No. 22\n",
      "Scraped Page No. 23\n",
      "Scraped Page No. 24\n",
      "Scraped Page No. 25\n",
      "Scraped Page No. 26\n",
      "Scraped Page No. 27\n",
      "Scraped Page No. 28\n",
      "Scraped Page No. 29\n",
      "Scraped Page No. 30\n",
      "Scraped Page No. 31\n",
      "Scraped Page No. 32\n",
      "Scraped Page No. 33\n",
      "Scraped Page No. 34\n",
      "Scraped Page No. 35\n",
      "Scraped Page No. 36\n",
      "Scraped Page No. 37\n",
      "Scraped Page No. 38\n",
      "Scraped Page No. 39\n",
      "Scraped Page No. 40\n",
      "Scraped Page No. 41\n",
      "Scraped Page No. 42\n",
      "Scraped Page No. 43\n",
      "Scraped Page No. 44\n",
      "Scraped Page No. 45\n",
      "Failed Scrapping Page No. 46\n"
     ]
    }
   ],
   "source": [
    "import selenium \n",
    "from selenium import webdriver\n",
    "# import pyautogui\n",
    "import time\n",
    "\n",
    "driver = webdriver.Firefox(executable_path=\"C:/Users/Farzad/webDrivers/geckodriver.exe\")\n",
    "\n",
    "\n",
    "urlInitials= 'https://www.amazon.com.au/s?i=kitchen&bbn=4852150051&rh=n%3A4852150051%2Cp_36%3A3900-5000%2Cp_n_free_shipping_eligible%3A5363790051%2Cp_72%3A2547912051%2Cp_6%3AANEGB3WVEVKZB&s=review-rank&dc&page='\n",
    "urlAfter= '&qid=1601494762&rnid=5355409051&ref=sr_pg_'\n",
    "\n",
    "#urlInitials= 'https://api.proxycrawl.com/?token=gV2i7Mvqy7kD4_tYQFERFg&url='\n",
    "#urlMiddle= 'https://www.amazon.com.au/s?i=kitchen&bbn=4852150051&rh=n%3A4852150051%2Cp_36%3A3900-5000%2Cp_n_free_shipping_eligible%3A5363790051%2Cp_72%3A2547912051%2Cp_6%3AANEGB3WVEVKZB&s=review-rank&dc&page='\n",
    "#urlAfter= '&qid=1601494762&rnid=5355409051&ref=sr_pg_'\n",
    "\n",
    "l=[]\n",
    "\n",
    "for page in range (1,47):\n",
    "    \n",
    "    try:\n",
    "        #url= urlInitials+urlMiddle+str(page)+urlAfter+str(page)\n",
    "        url= urlInitials+str(page)+urlAfter+str(page)\n",
    "        #url = 'https://www.amazon.com.au/s?i=kitchen&bbn=4852150051&rh=n%3A4852150051%2Cp_36%3A3900-5000%2Cp_n_free_shipping_eligible%3A5363790051%2Cp_72%3A2547912051%2Cp_6%3AANEGB3WVEVKZB&s=review-rank&dc&page=1&qid=1601494762&rnid=5355409051&ref=sr_pg_1'\n",
    "        driver.get(url)\n",
    "\n",
    "        time.sleep(5)\n",
    "\n",
    "        result = driver.find_elements_by_class_name(\"s-include-content-margin\")\n",
    "\n",
    "        for indexNumber in range (0,16):\n",
    "\n",
    "            hrefs = result[indexNumber].find_elements_by_tag_name('a')\n",
    "            href_list = []\n",
    "            for each_href in hrefs:\n",
    "                #if each_href.get_attribute('alt').strip():\n",
    "                href_list.append(each_href.get_attribute('href'))\n",
    "\n",
    "\n",
    "        #     d={}  \n",
    "        #     d['href']= href_list[0]\n",
    "        #     d_list.append(d)\n",
    "        #     #print(len(href_list))\n",
    "\n",
    "\n",
    "            images = result[indexNumber].find_elements_by_tag_name('img')\n",
    "            image_list = []\n",
    "            for each_image in images:\n",
    "                    #if each_image.get_attribute('alt').strip():\n",
    "                image_list.append(each_image.get_attribute('src'))\n",
    "\n",
    "\n",
    "\n",
    "            if result[indexNumber].text.split('\\n')[0] == \"Sponsored\":\n",
    "\n",
    "                try: name = result[indexNumber].text.split('\\n')[1]\n",
    "                except: None\n",
    "                try: rating = result[indexNumber].text.split('\\n')[2]\n",
    "                except: None\n",
    "                try: price = str(result[indexNumber].text.split('\\n')[3])+str(',')+str(result[indexNumber].text.split('\\n')[4])\n",
    "                except: None\n",
    "                try: choice = result[indexNumber].text.split('\\n')[5]\n",
    "                except: None\n",
    "                try: options = result[indexNumber].text.split('\\n')[6]\n",
    "                except: None\n",
    "\n",
    "            else:\n",
    "                try: name = result[indexNumber].text.split('\\n')[0]\n",
    "                except: None\n",
    "                try: rating = result[indexNumber].text.split('\\n')[1]\n",
    "                except: None\n",
    "                try: price = str(result[indexNumber].text.split('\\n')[2])+str(',')+str(result[indexNumber].text.split('\\n')[3])\n",
    "                except: None\n",
    "                try: choice = result[indexNumber].text.split('\\n')[4]\n",
    "                except: None\n",
    "                try: options = result[indexNumber].text.split('\\n')[5]\n",
    "                except: None\n",
    "\n",
    "\n",
    "            d={}\n",
    "\n",
    "            try: d[\"name\"]= name\n",
    "            except:d[\"name\"]=None\n",
    "            try: d[\"rating\"]= rating\n",
    "            except:d[\"rating\"]=None\n",
    "            try: d[\"price\"]= price\n",
    "            except:d[\"price\"]=None\n",
    "            try: d[\"choice\"]= choice\n",
    "            except:d[\"choice\"]=None\n",
    "            try: d[\"options\"]= options\n",
    "            except:d[\"options\"]= None\n",
    "            try: d['href']= href_list[0]\n",
    "            except:d[\"href\"]=None\n",
    "            try: d[\"imageUrl\"]= image_list[0]\n",
    "            except:d[\"imageUrl\"]=None\n",
    "            l.append(d)\n",
    "\n",
    "        print(\"Scraped Page No. \"+str(page))\n",
    "\n",
    "        time.sleep(10)\n",
    "    except:\n",
    "        print(\"Failed Scrapping Page No. \"+str(page))\n",
    "        pass\n",
    "        "
   ]
  },
  {
   "cell_type": "code",
   "execution_count": 135,
   "metadata": {},
   "outputs": [
    {
     "data": {
      "text/plain": [
       "725"
      ]
     },
     "execution_count": 135,
     "metadata": {},
     "output_type": "execute_result"
    }
   ],
   "source": [
    "len(l)"
   ]
  },
  {
   "cell_type": "code",
   "execution_count": 137,
   "metadata": {},
   "outputs": [],
   "source": [
    "import pandas\n",
    "df=pandas.DataFrame(l)"
   ]
  },
  {
   "cell_type": "code",
   "execution_count": 138,
   "metadata": {},
   "outputs": [
    {
     "data": {
      "text/plain": [
       "(725, 7)"
      ]
     },
     "execution_count": 138,
     "metadata": {},
     "output_type": "execute_result"
    }
   ],
   "source": [
    "df.shape"
   ]
  },
  {
   "cell_type": "code",
   "execution_count": 139,
   "metadata": {},
   "outputs": [
    {
     "data": {
      "text/html": [
       "<div>\n",
       "<style scoped>\n",
       "    .dataframe tbody tr th:only-of-type {\n",
       "        vertical-align: middle;\n",
       "    }\n",
       "\n",
       "    .dataframe tbody tr th {\n",
       "        vertical-align: top;\n",
       "    }\n",
       "\n",
       "    .dataframe thead th {\n",
       "        text-align: right;\n",
       "    }\n",
       "</style>\n",
       "<table border=\"1\" class=\"dataframe\">\n",
       "  <thead>\n",
       "    <tr style=\"text-align: right;\">\n",
       "      <th></th>\n",
       "      <th>name</th>\n",
       "      <th>rating</th>\n",
       "      <th>price</th>\n",
       "      <th>choice</th>\n",
       "      <th>options</th>\n",
       "      <th>href</th>\n",
       "      <th>imageUrl</th>\n",
       "    </tr>\n",
       "  </thead>\n",
       "  <tbody>\n",
       "    <tr>\n",
       "      <th>720</th>\n",
       "      <td>Thirstystone Galvanize Iron with Sheesham Wood...</td>\n",
       "      <td>1</td>\n",
       "      <td>$44,69</td>\n",
       "      <td>Temporarily out of stock.</td>\n",
       "      <td>More Buying Choices</td>\n",
       "      <td>https://www.amazon.com.au/Thirstystone-Industr...</td>\n",
       "      <td>https://m.media-amazon.com/images/I/71rsOi0WCJ...</td>\n",
       "    </tr>\n",
       "    <tr>\n",
       "      <th>721</th>\n",
       "      <td>Caroline's Treasures ARA0133LCB London Snow by...</td>\n",
       "      <td>1</td>\n",
       "      <td>$46,94</td>\n",
       "      <td>Only 1 left in stock.</td>\n",
       "      <td>More Buying Choices</td>\n",
       "      <td>https://www.amazon.com.au/Carolines-Treasures-...</td>\n",
       "      <td>https://m.media-amazon.com/images/I/81vkHeevLq...</td>\n",
       "    </tr>\n",
       "    <tr>\n",
       "      <th>722</th>\n",
       "      <td>Caroline's Treasures BDBA0114LCB Black Bears b...</td>\n",
       "      <td>1</td>\n",
       "      <td>$46,94</td>\n",
       "      <td>Only 1 left in stock.</td>\n",
       "      <td>More Buying Choices</td>\n",
       "      <td>https://www.amazon.com.au/Carolines-Treasures-...</td>\n",
       "      <td>https://m.media-amazon.com/images/I/71vIIvQTft...</td>\n",
       "    </tr>\n",
       "    <tr>\n",
       "      <th>723</th>\n",
       "      <td>Zassenhaus ZAS-022889 Essen Pepper Mill, Silve...</td>\n",
       "      <td>1</td>\n",
       "      <td>$45,30</td>\n",
       "      <td>Temporarily out of stock.</td>\n",
       "      <td>More Buying Choices</td>\n",
       "      <td>https://www.amazon.com.au/Zassenhaus-ZAS-02288...</td>\n",
       "      <td>https://m.media-amazon.com/images/I/71WZc-Cnei...</td>\n",
       "    </tr>\n",
       "    <tr>\n",
       "      <th>724</th>\n",
       "      <td>Zassenhaus ZAS-020434 Berlin Beech Wood Pepper...</td>\n",
       "      <td>1</td>\n",
       "      <td>$41,51</td>\n",
       "      <td>Temporarily out of stock.</td>\n",
       "      <td>More Buying Choices</td>\n",
       "      <td>https://www.amazon.com.au/Zassenhaus-ZAS-02043...</td>\n",
       "      <td>https://m.media-amazon.com/images/I/61hgsLETyd...</td>\n",
       "    </tr>\n",
       "  </tbody>\n",
       "</table>\n",
       "</div>"
      ],
      "text/plain": [
       "                                                  name rating   price  \\\n",
       "720  Thirstystone Galvanize Iron with Sheesham Wood...      1  $44,69   \n",
       "721  Caroline's Treasures ARA0133LCB London Snow by...      1  $46,94   \n",
       "722  Caroline's Treasures BDBA0114LCB Black Bears b...      1  $46,94   \n",
       "723  Zassenhaus ZAS-022889 Essen Pepper Mill, Silve...      1  $45,30   \n",
       "724  Zassenhaus ZAS-020434 Berlin Beech Wood Pepper...      1  $41,51   \n",
       "\n",
       "                        choice              options  \\\n",
       "720  Temporarily out of stock.  More Buying Choices   \n",
       "721      Only 1 left in stock.  More Buying Choices   \n",
       "722      Only 1 left in stock.  More Buying Choices   \n",
       "723  Temporarily out of stock.  More Buying Choices   \n",
       "724  Temporarily out of stock.  More Buying Choices   \n",
       "\n",
       "                                                  href  \\\n",
       "720  https://www.amazon.com.au/Thirstystone-Industr...   \n",
       "721  https://www.amazon.com.au/Carolines-Treasures-...   \n",
       "722  https://www.amazon.com.au/Carolines-Treasures-...   \n",
       "723  https://www.amazon.com.au/Zassenhaus-ZAS-02288...   \n",
       "724  https://www.amazon.com.au/Zassenhaus-ZAS-02043...   \n",
       "\n",
       "                                              imageUrl  \n",
       "720  https://m.media-amazon.com/images/I/71rsOi0WCJ...  \n",
       "721  https://m.media-amazon.com/images/I/81vkHeevLq...  \n",
       "722  https://m.media-amazon.com/images/I/71vIIvQTft...  \n",
       "723  https://m.media-amazon.com/images/I/71WZc-Cnei...  \n",
       "724  https://m.media-amazon.com/images/I/61hgsLETyd...  "
      ]
     },
     "execution_count": 139,
     "metadata": {},
     "output_type": "execute_result"
    }
   ],
   "source": [
    "df.tail()"
   ]
  },
  {
   "cell_type": "code",
   "execution_count": 140,
   "metadata": {},
   "outputs": [
    {
     "data": {
      "text/plain": [
       "(725, 7)"
      ]
     },
     "execution_count": 140,
     "metadata": {},
     "output_type": "execute_result"
    }
   ],
   "source": [
    "df1=df\n",
    "df1.shape"
   ]
  },
  {
   "cell_type": "code",
   "execution_count": 141,
   "metadata": {},
   "outputs": [],
   "source": [
    "df2 = df1.to_csv(\"amazon_v3.csv\")"
   ]
  },
  {
   "cell_type": "code",
   "execution_count": 143,
   "metadata": {},
   "outputs": [
    {
     "data": {
      "text/plain": [
       "(725, 7)"
      ]
     },
     "execution_count": 143,
     "metadata": {},
     "output_type": "execute_result"
    }
   ],
   "source": [
    "df2_noduplicates = df1.drop_duplicates()\n",
    "df2_noduplicates.shape"
   ]
  },
  {
   "cell_type": "code",
   "execution_count": 144,
   "metadata": {},
   "outputs": [],
   "source": [
    "df3=df2_noduplicates.to_csv(\"amazon_v3_nodub.csv\")"
   ]
  },
  {
   "cell_type": "code",
   "execution_count": 145,
   "metadata": {},
   "outputs": [
    {
     "name": "stdout",
     "output_type": "stream",
     "text": [
      "completed\n"
     ]
    }
   ],
   "source": [
    "print('completed')"
   ]
  },
  {
   "cell_type": "code",
   "execution_count": null,
   "metadata": {},
   "outputs": [],
   "source": []
  },
  {
   "cell_type": "code",
   "execution_count": null,
   "metadata": {},
   "outputs": [],
   "source": []
  }
 ],
 "metadata": {
  "kernelspec": {
   "display_name": "Python 3",
   "language": "python",
   "name": "python3"
  },
  "language_info": {
   "codemirror_mode": {
    "name": "ipython",
    "version": 3
   },
   "file_extension": ".py",
   "mimetype": "text/x-python",
   "name": "python",
   "nbconvert_exporter": "python",
   "pygments_lexer": "ipython3",
   "version": "3.8.3"
  }
 },
 "nbformat": 4,
 "nbformat_minor": 4
}
