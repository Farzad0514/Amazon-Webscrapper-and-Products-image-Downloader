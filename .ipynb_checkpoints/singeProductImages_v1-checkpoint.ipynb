{
 "cells": [
  {
   "cell_type": "code",
   "execution_count": 1,
   "metadata": {},
   "outputs": [],
   "source": [
    "import os\n",
    "import selenium \n",
    "from selenium import webdriver\n",
    "\n",
    "\n",
    "driver = webdriver.Firefox(executable_path=\"C:/Users/Farzad/webDrivers/geckodriver.exe\")"
   ]
  },
  {
   "cell_type": "code",
   "execution_count": 2,
   "metadata": {},
   "outputs": [],
   "source": [
    "url= 'https://www.amazon.com.au/Thermos-Stainless-Ounce-Travel-Handle/dp/B00ETP7DAW/ref=sr_1_103?dchild=1&m=ANEGB3WVEVKZB&qid=1601494762&refinements=p_36%3A3900-5000%2Cp_n_free_shipping_eligible%3A5363790051%2Cp_72%3A2547912051%2Cp_6%3AANEGB3WVEVKZB&rnid=5355409051&s=kitchen&sr=1-103'\n",
    "driver.get(url)\n"
   ]
  },
  {
   "cell_type": "code",
   "execution_count": 3,
   "metadata": {},
   "outputs": [],
   "source": [
    "getScript= driver.find_element_by_xpath('//*[@id=\"imageBlock_feature_div\"]/script[1]')"
   ]
  },
  {
   "cell_type": "code",
   "execution_count": 5,
   "metadata": {},
   "outputs": [
    {
     "data": {
      "text/plain": [
       "<selenium.webdriver.firefox.webelement.FirefoxWebElement (session=\"20d001ec-1f7e-4ab3-b8de-8270d2004546\", element=\"9fa220b5-f64a-4ad8-8498-ff04503a3ce2\")>"
      ]
     },
     "execution_count": 5,
     "metadata": {},
     "output_type": "execute_result"
    }
   ],
   "source": [
    "getScript"
   ]
  },
  {
   "cell_type": "code",
   "execution_count": 8,
   "metadata": {},
   "outputs": [],
   "source": [
    "from bs4 import BeautifulSoup"
   ]
  },
  {
   "cell_type": "code",
   "execution_count": null,
   "metadata": {},
   "outputs": [],
   "source": [
    "soup= BeautifulSoup."
   ]
  }
 ],
 "metadata": {
  "kernelspec": {
   "display_name": "Python 3",
   "language": "python",
   "name": "python3"
  },
  "language_info": {
   "codemirror_mode": {
    "name": "ipython",
    "version": 3
   },
   "file_extension": ".py",
   "mimetype": "text/x-python",
   "name": "python",
   "nbconvert_exporter": "python",
   "pygments_lexer": "ipython3",
   "version": "3.8.3"
  }
 },
 "nbformat": 4,
 "nbformat_minor": 4
}
